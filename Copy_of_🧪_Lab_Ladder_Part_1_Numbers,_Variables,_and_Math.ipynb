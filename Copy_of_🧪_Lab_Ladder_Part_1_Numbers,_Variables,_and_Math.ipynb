{
  "cells": [
    {
      "cell_type": "markdown",
      "metadata": {
        "id": "view-in-github",
        "colab_type": "text"
      },
      "source": [
        "<a href=\"https://colab.research.google.com/github/Buzhynskaya-Daria/Lab---Ladder-Part-1-/blob/main/Copy_of_%F0%9F%A7%AA_Lab_Ladder_Part_1_Numbers%2C_Variables%2C_and_Math.ipynb\" target=\"_parent\"><img src=\"https://colab.research.google.com/assets/colab-badge.svg\" alt=\"Open In Colab\"/></a>"
      ]
    },
    {
      "cell_type": "markdown",
      "metadata": {
        "id": "1xbyIYOxEjtO"
      },
      "source": [
        "<div>\n",
        "<img src=\"https://coursereport-s3-production.global.ssl.fastly.net/uploads/school/logo/219/original/CT_LOGO_NEW.jpg\" width=60>\n",
        "</div>\n",
        "\n",
        "# **Python Ladder Challenges - Numbers, Variables, and Math**\n"
      ]
    },
    {
      "cell_type": "markdown",
      "metadata": {
        "id": "KnVBAM15EjtU"
      },
      "source": [
        "# Climb the Ladder!\n",
        "Our class moves quickly! Sometimes, it feels like we make leaps in logic that are a bit too big. Learn Python _slowly_, by doing many, many examples. Problems in this notebook start out easy and progressively get harder, so that the next rung of the Python ladder is always within reach."
      ]
    },
    {
      "cell_type": "markdown",
      "metadata": {
        "id": "EzauZNpgEjtV"
      },
      "source": [
        "# Section I: Numbers, variables, and math.\n",
        "\n",
        "\n"
      ]
    },
    {
      "cell_type": "markdown",
      "metadata": {
        "id": "FXFOim8IEjtW"
      },
      "source": [
        "1) What is 13579 times 86420? - I'll help you get started!"
      ]
    },
    {
      "cell_type": "code",
      "execution_count": 1,
      "metadata": {
        "colab": {
          "base_uri": "https://localhost:8080/"
        },
        "id": "DlYIbrFDEjtW",
        "outputId": "684129f2-07e7-47dd-8f93-27adee271699"
      },
      "outputs": [
        {
          "output_type": "execute_result",
          "data": {
            "text/plain": [
              "1173497180"
            ]
          },
          "metadata": {},
          "execution_count": 1
        }
      ],
      "source": [
        "13579 * 86420"
      ]
    },
    {
      "cell_type": "markdown",
      "metadata": {
        "id": "Cj0m-TuPmS1V"
      },
      "source": [
        "2) What is 10000 divided by 4?"
      ]
    },
    {
      "cell_type": "code",
      "execution_count": 2,
      "metadata": {
        "id": "kzyMJbZFmLKc",
        "colab": {
          "base_uri": "https://localhost:8080/"
        },
        "outputId": "a76749c6-387c-44ee-c844-9600f6a93083"
      },
      "outputs": [
        {
          "output_type": "execute_result",
          "data": {
            "text/plain": [
              "2500.0"
            ]
          },
          "metadata": {},
          "execution_count": 2
        }
      ],
      "source": [
        "10000 / 4"
      ]
    },
    {
      "cell_type": "markdown",
      "metadata": {
        "id": "Y6WwCSATmaLs"
      },
      "source": [
        "3) What is 123456789 + 987654321?"
      ]
    },
    {
      "cell_type": "code",
      "execution_count": 3,
      "metadata": {
        "id": "95XrRhGymaBl",
        "colab": {
          "base_uri": "https://localhost:8080/"
        },
        "outputId": "0ddec204-3257-4040-c491-f1d1e3bea997"
      },
      "outputs": [
        {
          "output_type": "execute_result",
          "data": {
            "text/plain": [
              "1111111110"
            ]
          },
          "metadata": {},
          "execution_count": 3
        }
      ],
      "source": [
        "123456789 + 987654321"
      ]
    },
    {
      "cell_type": "markdown",
      "metadata": {
        "id": "Q53OuzTHmmIY"
      },
      "source": [
        "4) What is 50 - 130?"
      ]
    },
    {
      "cell_type": "code",
      "execution_count": 4,
      "metadata": {
        "id": "8G7U7T7dml8o",
        "colab": {
          "base_uri": "https://localhost:8080/"
        },
        "outputId": "ce937d5f-3d99-4ab8-b65b-0eb7702a28ad"
      },
      "outputs": [
        {
          "output_type": "execute_result",
          "data": {
            "text/plain": [
              "-80"
            ]
          },
          "metadata": {},
          "execution_count": 4
        }
      ],
      "source": [
        "50 - 130"
      ]
    },
    {
      "cell_type": "markdown",
      "metadata": {
        "id": "NSbhvLk9ih6x"
      },
      "source": [
        "5) Create a variable `num` and assign a number to it. Print the square and cube of that number.\n",
        "\n"
      ]
    },
    {
      "cell_type": "code",
      "execution_count": 10,
      "metadata": {
        "id": "sYt0Hb0FihzR",
        "colab": {
          "base_uri": "https://localhost:8080/"
        },
        "outputId": "fa9896dd-b431-4248-86a4-c842c1d93054"
      },
      "outputs": [
        {
          "output_type": "stream",
          "name": "stdout",
          "text": [
            "Square of 5 is: 25\n",
            "Cube of 5 is: 125\n"
          ]
        }
      ],
      "source": [
        "num = 5\n",
        "square = num ** 2\n",
        "print(\"Square of\", num, \"is:\", square)\n",
        "cube = num ** 3\n",
        "print(\"Cube of\", num, \"is:\", cube)"
      ]
    },
    {
      "cell_type": "markdown",
      "metadata": {
        "id": "x-JmZuxukdVy"
      },
      "source": [
        "6) You're shopping, and one of your favorite products, usually priced at $50, is currently on sale with a 25% discount! Utilize the provided variables to compute the updated price of your beloved product. ***Keep in mind, we're interested in determining the new price of the product, not the amount of the discount.***"
      ]
    },
    {
      "cell_type": "code",
      "execution_count": 17,
      "metadata": {
        "id": "e3RrY7uxkc-w",
        "colab": {
          "base_uri": "https://localhost:8080/"
        },
        "outputId": "d5b70352-0b45-4834-ef59-31f9611a653d"
      },
      "outputs": [
        {
          "output_type": "stream",
          "name": "stdout",
          "text": [
            "The new price is: 37.5\n"
          ]
        }
      ],
      "source": [
        "regular_price = 50\n",
        "discount = 0.25\n",
        "discount_amount = regular_price * discount\n",
        "new_price = regular_price - discount_amount\n",
        "print(\"The new price is:\", new_price)"
      ]
    },
    {
      "cell_type": "markdown",
      "metadata": {
        "id": "BDtE7_7Kihkr"
      },
      "source": [
        "7) The temperature is currently 30$^{\\circ}$C! Calculate its equivalent in Fahrenheit using the formula $F = \\frac{9}{5}C+32$"
      ]
    },
    {
      "cell_type": "code",
      "execution_count": 18,
      "metadata": {
        "id": "m-mN3iOXihTf",
        "colab": {
          "base_uri": "https://localhost:8080/"
        },
        "outputId": "75f9a3d8-fba0-4f18-cf66-1733a522c3bc"
      },
      "outputs": [
        {
          "output_type": "stream",
          "name": "stdout",
          "text": [
            "The temperature in Fahrenheit is: 86.0\n"
          ]
        }
      ],
      "source": [
        "c = 30\n",
        "f = (9/5) * c + 32\n",
        "print(\"The temperature in Fahrenheit is:\", f)"
      ]
    },
    {
      "cell_type": "markdown",
      "metadata": {
        "id": "B99oFuIGhRwO"
      },
      "source": [
        "8) Set up two variables, `height` and `base`, to represent the dimensions of a triangle. Assign the value 5 to the variable `height` and the value 12 to the variable `base`."
      ]
    },
    {
      "cell_type": "code",
      "execution_count": 19,
      "metadata": {
        "id": "kj_Hq77PhQ_u"
      },
      "outputs": [],
      "source": [
        "height = 5\n",
        "base = 12"
      ]
    },
    {
      "cell_type": "markdown",
      "metadata": {
        "id": "Vjm8hgxPhQ0g"
      },
      "source": [
        "9) Utilize the previously defined variables, `height` and `base`, to determine the area of the triangle. Recall that the formula for the area of a triangle is $A = \\frac{1}{2}bh$."
      ]
    },
    {
      "cell_type": "code",
      "execution_count": 20,
      "metadata": {
        "id": "W3YKhzUJhQei",
        "colab": {
          "base_uri": "https://localhost:8080/"
        },
        "outputId": "68ac2153-e0e4-489d-b38e-0b6205ea92d2"
      },
      "outputs": [
        {
          "output_type": "stream",
          "name": "stdout",
          "text": [
            "The area of the triangle is: 30.0\n"
          ]
        }
      ],
      "source": [
        "height = 5\n",
        "base = 12\n",
        "area = 0.5 * base * height\n",
        "print(\"The area of the triangle is:\", area)"
      ]
    },
    {
      "cell_type": "markdown",
      "metadata": {
        "id": "ykNKBxa4EjtX"
      },
      "source": [
        "10) The speed of light $c$ is 300,000,000 m/s. The binding energy of a given particle is $E = mc^2$. Compute $E$ for a given particle that has mass of 17kg."
      ]
    },
    {
      "cell_type": "code",
      "execution_count": 21,
      "metadata": {
        "id": "ep8ZV_YxEjtY",
        "colab": {
          "base_uri": "https://localhost:8080/"
        },
        "outputId": "84e72431-d5ad-4613-8535-aa31cdecd828"
      },
      "outputs": [
        {
          "output_type": "stream",
          "name": "stdout",
          "text": [
            "The binding energy of a particle with mass 17 kg is 1530000000000000000 Joules.\n"
          ]
        }
      ],
      "source": [
        "m = 17\n",
        "c = 300000000\n",
        "e = m * c ** 2\n",
        "print(\"The binding energy of a particle with mass\", m, \"kg is\", e, \"Joules.\")"
      ]
    },
    {
      "cell_type": "markdown",
      "metadata": {
        "id": "WHvNt5NMhJCx"
      },
      "source": [
        "11) You have $500 in an account that compounds 6% interest annually. How much money will you have after 5 years? The formula for this calculation is:\n",
        "\n",
        "$$\\text{Final amount} = A(1 + r)^t$$\n",
        "\n",
        "Where $A$ is the initial amount, $r$ is the interest rate, and $t$ is the number of years."
      ]
    },
    {
      "cell_type": "code",
      "execution_count": 24,
      "metadata": {
        "id": "u-4jEPa1Ejtd",
        "colab": {
          "base_uri": "https://localhost:8080/"
        },
        "outputId": "1f0639a9-2469-46b8-9805-f99ab3311529"
      },
      "outputs": [
        {
          "output_type": "stream",
          "name": "stdout",
          "text": [
            "The final amount after 5 years is: 669.1127888000001\n"
          ]
        }
      ],
      "source": [
        "a = 500\n",
        "r = 0.06\n",
        "t = 5\n",
        "final_amount = a * (1 + r) ** t\n",
        "print(\"The final amount after 5 years is:\", final_amount)"
      ]
    },
    {
      "cell_type": "code",
      "source": [],
      "metadata": {
        "id": "ou7MkX78vFEP"
      },
      "execution_count": null,
      "outputs": []
    }
  ],
  "metadata": {
    "colab": {
      "provenance": [],
      "include_colab_link": true
    },
    "kernelspec": {
      "display_name": "Python 3",
      "language": "python",
      "name": "python3"
    },
    "language_info": {
      "codemirror_mode": {
        "name": "ipython",
        "version": 3
      },
      "file_extension": ".py",
      "mimetype": "text/x-python",
      "name": "python",
      "nbconvert_exporter": "python",
      "pygments_lexer": "ipython3",
      "version": "3.8.3"
    }
  },
  "nbformat": 4,
  "nbformat_minor": 0
}